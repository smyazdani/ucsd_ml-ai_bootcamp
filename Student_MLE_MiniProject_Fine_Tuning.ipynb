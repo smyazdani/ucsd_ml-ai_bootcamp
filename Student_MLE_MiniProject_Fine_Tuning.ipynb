{
  "nbformat": 4,
  "nbformat_minor": 0,
  "metadata": {
    "colab": {
      "provenance": [],
      "gpuType": "V28"
    },
    "kernelspec": {
      "name": "python3",
      "display_name": "Python 3"
    },
    "language_info": {
      "name": "python"
    },
    "accelerator": "TPU"
  },
  "cells": [
    {
      "cell_type": "markdown",
      "source": [
        "# Mini Project: Transfer Learning with Keras\n",
        "\n",
        "Transfer learning is a machine learning technique where a model trained on one task is used as a starting point to solve a different but related task. Instead of training a model from scratch, transfer learning leverages the knowledge learned from the source task and applies it to the target task. This approach is especially useful when the target task has limited data or computational resources.\n",
        "\n",
        "In transfer learning, the pre-trained model, also known as the \"base model\" or \"source model,\" is typically trained on a large dataset and a more general problem (e.g., image classification on ImageNet, a vast dataset with millions of labeled images). The knowledge learned by the base model in the form of feature representations and weights captures common patterns and features in the data.\n",
        "\n",
        "To perform transfer learning, the following steps are commonly followed:\n",
        "\n",
        "1. Pre-training: The base model is trained on a source task using a large dataset, which can take a considerable amount of time and computational resources.\n",
        "\n",
        "2. Feature Extraction: After pre-training, the base model is used as a feature extractor. The last few layers (classifier layers) of the model are discarded, and the remaining layers (feature extraction layers) are retained. These layers serve as feature extractors, producing meaningful representations of the data.\n",
        "\n",
        "3. Fine-tuning: The feature extraction layers and sometimes some of the earlier layers are connected to a new set of layers, often called the \"classifier layers\" or \"task-specific layers.\" These layers are randomly initialized, and the model is trained on the target task with a smaller dataset. The weights of the base model can be frozen during fine-tuning, or they can be allowed to be updated with a lower learning rate to fine-tune the model for the target task.\n",
        "\n",
        "Transfer learning has several benefits:\n",
        "\n",
        "1. Reduced training time and resource requirements: Since the base model has already learned generic features, transfer learning can save time and resources compared to training a model from scratch.\n",
        "\n",
        "2. Improved generalization: Transfer learning helps the model generalize better to the target task, especially when the target dataset is small and dissimilar from the source dataset.\n",
        "\n",
        "3. Better performance: By starting from a model that is already trained on a large dataset, transfer learning can lead to better performance on the target task, especially in scenarios with limited data.\n",
        "\n",
        "4. Effective feature extraction: The feature extraction layers of the pre-trained model can serve as powerful feature extractors for different tasks, even when the task domains differ.\n",
        "\n",
        "Transfer learning is commonly used in various domains, including computer vision, natural language processing (NLP), and speech recognition, where pre-trained models are fine-tuned for specific applications like object detection, sentiment analysis, or speech-to-text.\n",
        "\n",
        "In this mini-project you will perform fine-tuning using Keras with a pre-trained VGG16 model on the CIFAR-10 dataset."
      ],
      "metadata": {
        "id": "fyXucUekO19i"
      }
    },
    {
      "cell_type": "markdown",
      "source": [
        "First, import all the libraries you'll need."
      ],
      "metadata": {
        "id": "TYuE9O6I2uRY"
      }
    },
    {
      "cell_type": "code",
      "execution_count": 2,
      "metadata": {
        "id": "kLWR1DfQPakn"
      },
      "outputs": [],
      "source": [
        "import numpy as np\n",
        "import tensorflow as tf\n",
        "from tensorflow.keras.datasets import cifar10\n",
        "from tensorflow.keras.applications import VGG16\n",
        "from tensorflow.keras.models import Model\n",
        "from tensorflow.keras.layers import Dense, GlobalAveragePooling2D\n",
        "from tensorflow.keras.optimizers import Adam\n",
        "from tensorflow.keras.utils import to_categorical\n",
        "from sklearn.model_selection import train_test_split\n",
        "from keras.datasets import cifar10"
      ]
    },
    {
      "cell_type": "markdown",
      "source": [
        "The CIFAR-10 dataset is a widely used benchmark dataset in the field of computer vision and machine learning. It stands for the \"Canadian Institute for Advanced Research 10\" dataset. CIFAR-10 was created by researchers at the CIFAR institute and was originally introduced as part of the Neural Information Processing Systems (NIPS) 2009 competition.\n",
        "\n",
        "The dataset consists of 60,000 color images, each of size 32x32 pixels, belonging to ten different classes. Each class contains 6,000 images. The ten classes in CIFAR-10 are:\n",
        "\n",
        "1. Airplane\n",
        "2. Automobile\n",
        "3. Bird\n",
        "4. Cat\n",
        "5. Deer\n",
        "6. Dog\n",
        "7. Frog\n",
        "8. Horse\n",
        "9. Ship\n",
        "10. Truck\n",
        "\n",
        "The images are evenly distributed across the classes, making CIFAR-10 a balanced dataset. The dataset is divided into two sets: a training set and a test set. The training set contains 50,000 images, while the test set contains the remaining 10,000 images.\n",
        "\n",
        "CIFAR-10 is often used for tasks such as image classification, object recognition, and transfer learning experiments. The relatively small size of the images and the variety of classes make it a challenging dataset for training machine learning models, especially deep neural networks. It also serves as a good dataset for teaching and learning purposes due to its manageable size and straightforward class labels."
      ],
      "metadata": {
        "id": "TEB60YsX2yUf"
      }
    },
    {
      "cell_type": "markdown",
      "source": [
        "Here are your tasks:\n",
        "\n",
        "1. Load the CIFAR-10 dataset after referencing the documentation [here](https://keras.io/api/datasets/cifar10/).\n",
        "2. Normalize the pixel values so they're all in the range [0, 1].\n",
        "3. Apply One Hot Encoding to the train and test labels using the [to_categorical](https://www.tensorflow.org/api_docs/python/tf/keras/utils/to_categorical) function.\n",
        "4. Further split the the training data into training and validation sets using [train_test_split](https://scikit-learn.org/stable/modules/generated/sklearn.model_selection.train_test_split.html). Use only 10% of the data for validation.  "
      ],
      "metadata": {
        "id": "Gp0MVIbiFonL"
      }
    },
    {
      "cell_type": "code",
      "source": [
        "# Load the CIFAR-10 dataset\n",
        "(x_train, y_train), (x_test, y_test) = cifar10.load_data()\n",
        "assert x_train.shape == (50000, 32, 32, 3)\n",
        "assert x_test.shape == (10000, 32, 32, 3)\n",
        "assert y_train.shape == (50000, 1)\n",
        "assert y_test.shape == (10000, 1)"
      ],
      "metadata": {
        "id": "ndNbwjaaSvs-",
        "outputId": "4e9e664c-10fd-4617-f338-526905ef134c",
        "colab": {
          "base_uri": "https://localhost:8080/"
        }
      },
      "execution_count": 3,
      "outputs": [
        {
          "output_type": "stream",
          "name": "stdout",
          "text": [
            "Downloading data from https://www.cs.toronto.edu/~kriz/cifar-10-python.tar.gz\n",
            "170498071/170498071 [==============================] - 4s 0us/step\n"
          ]
        }
      ]
    },
    {
      "cell_type": "code",
      "source": [
        "# Normalize the pixel values to [0, 1]\n",
        "x_train = x_train / 255.0\n",
        "x_test = x_test / 255.0"
      ],
      "metadata": {
        "id": "8H6KUgh2SxxR"
      },
      "execution_count": 4,
      "outputs": []
    },
    {
      "cell_type": "code",
      "source": [
        "import matplotlib.pyplot as plt\n",
        "# Function to plot images\n",
        "def plot_images(images, labels, class_names):\n",
        "    plt.figure(figsize=(10,10))\n",
        "    for i in range(len(images)):\n",
        "        plt.subplot(5,5,i+1)\n",
        "        plt.xticks([])\n",
        "        plt.yticks([])\n",
        "        plt.grid(False)\n",
        "        plt.imshow(images[i])\n",
        "        # Find the index of the class with the highest probability\n",
        "        class_index = np.argmax(labels[i])\n",
        "        plt.xlabel(class_names[class_index]) # Use the class index to access class_names\n",
        "    plt.show()\n",
        "\n",
        "# Class names in CIFAR-10\n",
        "class_names = ['airplane', 'automobile', 'bird', 'cat', 'deer', 'dog', 'frog', 'horse', 'ship', 'truck']"
      ],
      "metadata": {
        "id": "tv2cqMX1Vz3P"
      },
      "execution_count": 5,
      "outputs": []
    },
    {
      "cell_type": "code",
      "source": [
        "# Plot some images with their labels\n",
        "plot_images(x_train[0:10], y_train[0:10], class_names)"
      ],
      "metadata": {
        "colab": {
          "base_uri": "https://localhost:8080/",
          "height": 348
        },
        "id": "ZK2oj_OvV2tY",
        "outputId": "09bd48d7-dd7b-4d27-9423-3d37f5f3bfc6"
      },
      "execution_count": 6,
      "outputs": [
        {
          "output_type": "display_data",
          "data": {
            "text/plain": [
              "<Figure size 1000x1000 with 10 Axes>"
            ],
            "image/png": "[encoded data removed]"
          },
          "metadata": {}
        }
      ]
    },
    {
      "cell_type": "code",
      "source": [
        "# One-hot encode the labels\n",
        "y_train = to_categorical(y_train)\n",
        "y_test = to_categorical(y_test)"
      ],
      "metadata": {
        "id": "mWDW1ZLySz7K"
      },
      "execution_count": 7,
      "outputs": []
    },
    {
      "cell_type": "code",
      "source": [
        "# Split the data into training and validation sets\n",
        "x_train, x_val, y_train, y_val = train_test_split(x_train, y_train, test_size=0.1, random_state=42)"
      ],
      "metadata": {
        "id": "4y3zao91ndZB"
      },
      "execution_count": 8,
      "outputs": []
    },
    {
      "cell_type": "code",
      "source": [
        "y_train.shape"
      ],
      "metadata": {
        "id": "JVyHeQvXX988",
        "outputId": "e68cbeba-0129-411b-d906-229a1703ffdb",
        "colab": {
          "base_uri": "https://localhost:8080/"
        }
      },
      "execution_count": 9,
      "outputs": [
        {
          "output_type": "execute_result",
          "data": {
            "text/plain": [
              "(45000, 10)"
            ]
          },
          "metadata": {},
          "execution_count": 9
        }
      ]
    },
    {
      "cell_type": "code",
      "source": [
        "from tensorflow.keras.preprocessing.image import ImageDataGenerator\n",
        "\n",
        "# Create an ImageDataGenerator with data augmentation\n",
        "datagen = ImageDataGenerator(\n",
        "    rotation_range=15,\n",
        "    width_shift_range=0.1,\n",
        "    height_shift_range=0.1,\n",
        "    horizontal_flip=True\n",
        ")\n",
        "\n",
        "# Fit the data generator to the training data\n",
        "datagen.fit(x_train)"
      ],
      "metadata": {
        "id": "5q43qDxUbI_m"
      },
      "execution_count": 10,
      "outputs": []
    },
    {
      "cell_type": "code",
      "source": [
        "# Generate batches of augmented images\n",
        "aug_iter = datagen.flow(x_train, y_train, batch_size=32)\n",
        "\n",
        "# Get 10 samples of augmented images\n",
        "aug_samples = [next(aug_iter) for _ in range(10)]\n",
        "\n",
        "# Extract images and labels from the samples\n",
        "aug_images = [sample[0] for sample in aug_samples]\n",
        "aug_labels = [sample[1] for sample in aug_samples]\n",
        "\n",
        "# Extract images and labels from the samples\n",
        "aug_images = [sample[0][0] for sample in aug_samples]  # Extract the image from the first index of the sample\n",
        "aug_labels = [sample[1][0] for sample in aug_samples]  # Extract the label from the first index of the sample\n",
        "\n",
        "# Plot the augmented images\n",
        "plot_images(aug_images, aug_labels, class_names)"
      ],
      "metadata": {
        "id": "TkOLOgatb7Xc",
        "outputId": "b175c7f9-8b35-4c37-f89b-2b4de3722463",
        "colab": {
          "base_uri": "https://localhost:8080/",
          "height": 348
        }
      },
      "execution_count": 11,
      "outputs": [
        {
          "output_type": "display_data",
          "data": {
            "text/plain": [
              "<Figure size 1000x1000 with 10 Axes>"
            ],
            "image/png": "[encoded data removed]"
          },
          "metadata": {}
        }
      ]
    },
    {
      "cell_type": "markdown",
      "source": [
        "VGG16 (Visual Geometry Group 16) is a deep convolutional neural network architecture that was developed by the Visual Geometry Group at the University of Oxford. It was proposed by researchers Karen Simonyan and Andrew Zisserman in their paper titled \"Very Deep Convolutional Networks for Large-Scale Image Recognition,\" which was presented at the International Conference on Learning Representations (ICLR) in 2015.\n",
        "\n",
        "The VGG16 architecture gained significant popularity for its simplicity and effectiveness in image classification tasks. It was one of the pioneering models that demonstrated the power of deeper neural networks for visual recognition tasks.\n",
        "\n",
        "Key characteristics of the VGG16 architecture:\n",
        "\n",
        "1. Architecture: VGG16 consists of a total of 16 layers, hence the name \"16.\" These layers are stacked one after another, forming a deep neural network.\n",
        "\n",
        "2. Convolutional Layers: The main building blocks of VGG16 are the convolutional layers. It primarily uses 3x3 convolutional filters throughout the network, which allows it to capture local features effectively.\n",
        "\n",
        "3. Max Pooling: After each set of convolutional layers, VGG16 applies max-pooling layers with 2x2 filters and stride 2, which halves the spatial dimensions (width and height) of the feature maps and reduces the number of parameters.\n",
        "\n",
        "4. Fully Connected Layers: Towards the end of the network, VGG16 has fully connected layers that act as a classifier to make predictions based on the learned features.\n",
        "\n",
        "5. Activation Function: The network uses the Rectified Linear Unit (ReLU) activation function for all hidden layers, which helps with faster convergence during training.\n",
        "\n",
        "6. Number of Filters: The number of filters in each convolutional layer is relatively small compared to more recent architectures like ResNet or InceptionNet. However, stacking multiple layers allows VGG16 to learn complex hierarchical features.\n",
        "\n",
        "7. Output Layer: The output layer consists of 1000 units, corresponding to 1000 ImageNet classes. VGG16 was originally trained on the large-scale ImageNet dataset, which contains millions of images from 1000 different classes.\n",
        "\n",
        "VGG16 was instrumental in showing that increasing the depth of a neural network can significantly improve its performance on image recognition tasks. However, the main drawback of VGG16 is its high number of parameters, making it computationally expensive and memory-intensive to train. Despite this limitation, VGG16 remains an essential benchmark architecture and has paved the way for even deeper and more efficient models in the field of computer vision, such as ResNet, DenseNet, and EfficientNet."
      ],
      "metadata": {
        "id": "aiFJsxS5HPHW"
      }
    },
    {
      "cell_type": "markdown",
      "source": [
        "Here are your tasks:\n",
        "\n",
        "1. Load [VGG16](https://keras.io/api/applications/vgg/#vgg16-function) as a base model. Make sure to exclude the top layer.\n",
        "2. Freeze all the layers in the base model. We'll be using these weights as a feature extraction layer to forward to layers that are trainable."
      ],
      "metadata": {
        "id": "XJw9E1D9Q3tQ"
      }
    },
    {
      "cell_type": "code",
      "source": [
        "# Load the pre-trained VGG16 model (excluding the top classifier)\n",
        "base_model = VGG16(weights='imagenet', include_top=False, input_shape=(32, 32, 3))"
      ],
      "metadata": {
        "id": "bncm8oTonijm",
        "outputId": "b0144e03-1ff7-4ddf-f57b-9e3fca32c95f",
        "colab": {
          "base_uri": "https://localhost:8080/"
        }
      },
      "execution_count": null,
      "outputs": [
        {
          "output_type": "stream",
          "name": "stdout",
          "text": [
            "Downloading data from https://storage.googleapis.com/tensorflow/keras-applications/vgg16/vgg16_weights_tf_dim_ordering_tf_kernels_notop.h5\n",
            "58889256/58889256 [==============================] - 0s 0us/step\n"
          ]
        }
      ]
    },
    {
      "cell_type": "code",
      "source": [
        "base_model.summary()"
      ],
      "metadata": {
        "id": "J8ZUBGpzbmCH",
        "outputId": "bf680bfe-09e6-4166-af07-6b18cfc7579c",
        "colab": {
          "base_uri": "https://localhost:8080/"
        }
      },
      "execution_count": null,
      "outputs": [
        {
          "output_type": "stream",
          "name": "stdout",
          "text": [
            "Model: \"vgg16\"\n",
            "_________________________________________________________________\n",
            " Layer (type)                Output Shape              Param #   \n",
            "=================================================================\n",
            " input_1 (InputLayer)        [(None, 32, 32, 3)]       0         \n",
            "                                                                 \n",
            " block1_conv1 (Conv2D)       (None, 32, 32, 64)        1792      \n",
            "                                                                 \n",
            " block1_conv2 (Conv2D)       (None, 32, 32, 64)        36928     \n",
            "                                                                 \n",
            " block1_pool (MaxPooling2D)  (None, 16, 16, 64)        0         \n",
            "                                                                 \n",
            " block2_conv1 (Conv2D)       (None, 16, 16, 128)       73856     \n",
            "                                                                 \n",
            " block2_conv2 (Conv2D)       (None, 16, 16, 128)       147584    \n",
            "                                                                 \n",
            " block2_pool (MaxPooling2D)  (None, 8, 8, 128)         0         \n",
            "                                                                 \n",
            " block3_conv1 (Conv2D)       (None, 8, 8, 256)         295168    \n",
            "                                                                 \n",
            " block3_conv2 (Conv2D)       (None, 8, 8, 256)         590080    \n",
            "                                                                 \n",
            " block3_conv3 (Conv2D)       (None, 8, 8, 256)         590080    \n",
            "                                                                 \n",
            " block3_pool (MaxPooling2D)  (None, 4, 4, 256)         0         \n",
            "                                                                 \n",
            " block4_conv1 (Conv2D)       (None, 4, 4, 512)         1180160   \n",
            "                                                                 \n",
            " block4_conv2 (Conv2D)       (None, 4, 4, 512)         2359808   \n",
            "                                                                 \n",
            " block4_conv3 (Conv2D)       (None, 4, 4, 512)         2359808   \n",
            "                                                                 \n",
            " block4_pool (MaxPooling2D)  (None, 2, 2, 512)         0         \n",
            "                                                                 \n",
            " block5_conv1 (Conv2D)       (None, 2, 2, 512)         2359808   \n",
            "                                                                 \n",
            " block5_conv2 (Conv2D)       (None, 2, 2, 512)         2359808   \n",
            "                                                                 \n",
            " block5_conv3 (Conv2D)       (None, 2, 2, 512)         2359808   \n",
            "                                                                 \n",
            " block5_pool (MaxPooling2D)  (None, 1, 1, 512)         0         \n",
            "                                                                 \n",
            "=================================================================\n",
            "Total params: 14714688 (56.13 MB)\n",
            "Trainable params: 14714688 (56.13 MB)\n",
            "Non-trainable params: 0 (0.00 Byte)\n",
            "_________________________________________________________________\n"
          ]
        }
      ]
    },
    {
      "cell_type": "code",
      "source": [
        "# Freeze the layers in the base model\n",
        "for layer in base_model.layers:\n",
        "    layer.trainable = False"
      ],
      "metadata": {
        "id": "pCQXH4bwS6h5"
      },
      "execution_count": null,
      "outputs": []
    },
    {
      "cell_type": "code",
      "source": [
        "base_model.summary()"
      ],
      "metadata": {
        "id": "ZXbKJ94zbvU9",
        "outputId": "d800810f-2392-4854-8f64-ab2b236ec501",
        "colab": {
          "base_uri": "https://localhost:8080/"
        }
      },
      "execution_count": null,
      "outputs": [
        {
          "output_type": "stream",
          "name": "stdout",
          "text": [
            "Model: \"vgg16\"\n",
            "_________________________________________________________________\n",
            " Layer (type)                Output Shape              Param #   \n",
            "=================================================================\n",
            " input_1 (InputLayer)        [(None, 32, 32, 3)]       0         \n",
            "                                                                 \n",
            " block1_conv1 (Conv2D)       (None, 32, 32, 64)        1792      \n",
            "                                                                 \n",
            " block1_conv2 (Conv2D)       (None, 32, 32, 64)        36928     \n",
            "                                                                 \n",
            " block1_pool (MaxPooling2D)  (None, 16, 16, 64)        0         \n",
            "                                                                 \n",
            " block2_conv1 (Conv2D)       (None, 16, 16, 128)       73856     \n",
            "                                                                 \n",
            " block2_conv2 (Conv2D)       (None, 16, 16, 128)       147584    \n",
            "                                                                 \n",
            " block2_pool (MaxPooling2D)  (None, 8, 8, 128)         0         \n",
            "                                                                 \n",
            " block3_conv1 (Conv2D)       (None, 8, 8, 256)         295168    \n",
            "                                                                 \n",
            " block3_conv2 (Conv2D)       (None, 8, 8, 256)         590080    \n",
            "                                                                 \n",
            " block3_conv3 (Conv2D)       (None, 8, 8, 256)         590080    \n",
            "                                                                 \n",
            " block3_pool (MaxPooling2D)  (None, 4, 4, 256)         0         \n",
            "                                                                 \n",
            " block4_conv1 (Conv2D)       (None, 4, 4, 512)         1180160   \n",
            "                                                                 \n",
            " block4_conv2 (Conv2D)       (None, 4, 4, 512)         2359808   \n",
            "                                                                 \n",
            " block4_conv3 (Conv2D)       (None, 4, 4, 512)         2359808   \n",
            "                                                                 \n",
            " block4_pool (MaxPooling2D)  (None, 2, 2, 512)         0         \n",
            "                                                                 \n",
            " block5_conv1 (Conv2D)       (None, 2, 2, 512)         2359808   \n",
            "                                                                 \n",
            " block5_conv2 (Conv2D)       (None, 2, 2, 512)         2359808   \n",
            "                                                                 \n",
            " block5_conv3 (Conv2D)       (None, 2, 2, 512)         2359808   \n",
            "                                                                 \n",
            " block5_pool (MaxPooling2D)  (None, 1, 1, 512)         0         \n",
            "                                                                 \n",
            "=================================================================\n",
            "Total params: 14714688 (56.13 MB)\n",
            "Trainable params: 0 (0.00 Byte)\n",
            "Non-trainable params: 14714688 (56.13 MB)\n",
            "_________________________________________________________________\n"
          ]
        }
      ]
    },
    {
      "cell_type": "code",
      "source": [
        "# Assert all parameters are non-trainable now\n",
        "for layer in base_model.layers:\n",
        "    assert not layer.trainable"
      ],
      "metadata": {
        "id": "eFmzyTBib0DC"
      },
      "execution_count": null,
      "outputs": []
    },
    {
      "cell_type": "markdown",
      "source": [
        "Now, we'll add some trainable layers to the base model.\n",
        "\n",
        "1. Using the base model, add a [GlobalAveragePooling2D](https://keras.io/api/layers/pooling_layers/global_average_pooling2d/) layer, followed by a [Dense](https://keras.io/api/layers/core_layers/dense/) layer of length 256 with ReLU activation. Finally, add a classification layer with 10 units, corresponding to the 10 CIFAR-10 classes, with softmax activation.\n",
        "2. Create a Keras [Model](https://keras.io/api/models/model/) that takes in approproate inputs and outputs."
      ],
      "metadata": {
        "id": "MAnyLR6btWqd"
      }
    },
    {
      "cell_type": "code",
      "source": [
        "# Add a global average pooling layer\n",
        "x = base_model.output\n",
        "x = GlobalAveragePooling2D()(x)"
      ],
      "metadata": {
        "id": "GiD0CiSvTCRG"
      },
      "execution_count": null,
      "outputs": []
    },
    {
      "cell_type": "code",
      "source": [
        "# Add a fully connected layer with 256 units and ReLU activation\n",
        "x = Dense(256, activation='relu')(x)"
      ],
      "metadata": {
        "id": "fKbX1RK4TCB9"
      },
      "execution_count": null,
      "outputs": []
    },
    {
      "cell_type": "code",
      "source": [
        "# Add the final classification layer with 10 units (for CIFAR-10 classes) and softmax activation\n",
        "predictions = Dense(10, activation='softmax')(x)"
      ],
      "metadata": {
        "id": "yEYDagVQTB33"
      },
      "execution_count": null,
      "outputs": []
    },
    {
      "cell_type": "code",
      "source": [
        "# Create the fine-tuned model\n",
        "model = Model(inputs=base_model.input, outputs=predictions)"
      ],
      "metadata": {
        "id": "A-op7iObo8io"
      },
      "execution_count": null,
      "outputs": []
    },
    {
      "cell_type": "code",
      "source": [
        "model.summary()"
      ],
      "metadata": {
        "id": "I653dzhQcwUf",
        "outputId": "587f5392-f9dc-47c6-a831-a16ff3ec9d90",
        "colab": {
          "base_uri": "https://localhost:8080/"
        }
      },
      "execution_count": null,
      "outputs": [
        {
          "output_type": "stream",
          "name": "stdout",
          "text": [
            "Model: \"model\"\n",
            "_________________________________________________________________\n",
            " Layer (type)                Output Shape              Param #   \n",
            "=================================================================\n",
            " input_1 (InputLayer)        [(None, 32, 32, 3)]       0         \n",
            "                                                                 \n",
            " block1_conv1 (Conv2D)       (None, 32, 32, 64)        1792      \n",
            "                                                                 \n",
            " block1_conv2 (Conv2D)       (None, 32, 32, 64)        36928     \n",
            "                                                                 \n",
            " block1_pool (MaxPooling2D)  (None, 16, 16, 64)        0         \n",
            "                                                                 \n",
            " block2_conv1 (Conv2D)       (None, 16, 16, 128)       73856     \n",
            "                                                                 \n",
            " block2_conv2 (Conv2D)       (None, 16, 16, 128)       147584    \n",
            "                                                                 \n",
            " block2_pool (MaxPooling2D)  (None, 8, 8, 128)         0         \n",
            "                                                                 \n",
            " block3_conv1 (Conv2D)       (None, 8, 8, 256)         295168    \n",
            "                                                                 \n",
            " block3_conv2 (Conv2D)       (None, 8, 8, 256)         590080    \n",
            "                                                                 \n",
            " block3_conv3 (Conv2D)       (None, 8, 8, 256)         590080    \n",
            "                                                                 \n",
            " block3_pool (MaxPooling2D)  (None, 4, 4, 256)         0         \n",
            "                                                                 \n",
            " block4_conv1 (Conv2D)       (None, 4, 4, 512)         1180160   \n",
            "                                                                 \n",
            " block4_conv2 (Conv2D)       (None, 4, 4, 512)         2359808   \n",
            "                                                                 \n",
            " block4_conv3 (Conv2D)       (None, 4, 4, 512)         2359808   \n",
            "                                                                 \n",
            " block4_pool (MaxPooling2D)  (None, 2, 2, 512)         0         \n",
            "                                                                 \n",
            " block5_conv1 (Conv2D)       (None, 2, 2, 512)         2359808   \n",
            "                                                                 \n",
            " block5_conv2 (Conv2D)       (None, 2, 2, 512)         2359808   \n",
            "                                                                 \n",
            " block5_conv3 (Conv2D)       (None, 2, 2, 512)         2359808   \n",
            "                                                                 \n",
            " block5_pool (MaxPooling2D)  (None, 1, 1, 512)         0         \n",
            "                                                                 \n",
            " global_average_pooling2d (  (None, 512)               0         \n",
            " GlobalAveragePooling2D)                                         \n",
            "                                                                 \n",
            " dense (Dense)               (None, 256)               131328    \n",
            "                                                                 \n",
            " dense_1 (Dense)             (None, 10)                2570      \n",
            "                                                                 \n",
            "=================================================================\n",
            "Total params: 14848586 (56.64 MB)\n",
            "Trainable params: 133898 (523.04 KB)\n",
            "Non-trainable params: 14714688 (56.13 MB)\n",
            "_________________________________________________________________\n"
          ]
        }
      ]
    },
    {
      "cell_type": "markdown",
      "source": [
        "With your model complete it's time to train it and assess its performance.\n",
        "\n",
        "1. Compile your model using an appropriate loss function. Feel free to play around with the optimizer, but a good starting optimizer might be Adam with a learning rate of 0.001.\n",
        "2. Fit your model on the training data. Use the validation data to print the accuracy for each epoch. Try training for 10 epochs. Note, training can take a few hours so go ahead and grab a cup of coffee.\n",
        "\n",
        "**Optional**: See if you can implement an [Early Stopping](https://keras.io/api/callbacks/early_stopping/) criteria as a callback function."
      ],
      "metadata": {
        "id": "jjgG_9IMwuLS"
      }
    },
    {
      "cell_type": "code",
      "source": [
        "# Compile the model\n",
        "model.compile(optimizer=Adam(learning_rate=0.001), loss='categorical_crossentropy', metrics=['accuracy'])"
      ],
      "metadata": {
        "id": "xTFBXCe6TG5m"
      },
      "execution_count": null,
      "outputs": []
    },
    {
      "cell_type": "code",
      "source": [
        "# Train the model and implement an early stopping\n",
        "early_stopping = tf.keras.callbacks.EarlyStopping(monitor='val_loss', patience=3)\n",
        "history = model.fit(x_train, y_train, validation_data=(x_val, y_val), epochs=10, callbacks=[early_stopping])"
      ],
      "metadata": {
        "id": "M5JnXlGPpkDg",
        "outputId": "a6213483-1397-4242-ab1e-b2e0dacfb37c",
        "colab": {
          "base_uri": "https://localhost:8080/"
        }
      },
      "execution_count": null,
      "outputs": [
        {
          "output_type": "stream",
          "name": "stdout",
          "text": [
            "Epoch 1/10\n",
            "1407/1407 [==============================] - 656s 465ms/step - loss: 1.3577 - accuracy: 0.5248 - val_loss: 1.2407 - val_accuracy: 0.5596\n",
            "Epoch 2/10\n",
            "1407/1407 [==============================] - 666s 473ms/step - loss: 1.1778 - accuracy: 0.5872 - val_loss: 1.1587 - val_accuracy: 0.5918\n",
            "Epoch 3/10\n",
            "1407/1407 [==============================] - 667s 474ms/step - loss: 1.1123 - accuracy: 0.6100 - val_loss: 1.1653 - val_accuracy: 0.5892\n",
            "Epoch 4/10\n",
            "1407/1407 [==============================] - 665s 473ms/step - loss: 1.0625 - accuracy: 0.6299 - val_loss: 1.1051 - val_accuracy: 0.6098\n",
            "Epoch 5/10\n",
            "1407/1407 [==============================] - 665s 473ms/step - loss: 1.0201 - accuracy: 0.6432 - val_loss: 1.1031 - val_accuracy: 0.6086\n",
            "Epoch 6/10\n",
            "1407/1407 [==============================] - 670s 476ms/step - loss: 0.9797 - accuracy: 0.6564 - val_loss: 1.0909 - val_accuracy: 0.6234\n",
            "Epoch 7/10\n",
            "1407/1407 [==============================] - 666s 473ms/step - loss: 0.9441 - accuracy: 0.6709 - val_loss: 1.1136 - val_accuracy: 0.6154\n",
            "Epoch 8/10\n",
            "1407/1407 [==============================] - 661s 470ms/step - loss: 0.9125 - accuracy: 0.6796 - val_loss: 1.0965 - val_accuracy: 0.6184\n",
            "Epoch 9/10\n",
            "1407/1407 [==============================] - 642s 456ms/step - loss: 0.8801 - accuracy: 0.6929 - val_loss: 1.0933 - val_accuracy: 0.6240\n"
          ]
        }
      ]
    },
    {
      "cell_type": "markdown",
      "source": [
        "With your model trained, it's time to assess how well it performs on the test data.\n",
        "\n",
        "1. Use your trained model to calculate the accuracy on the test set. Is the model performance better than random?\n",
        "2. Experiment! See if you can tweak your model to improve performance.  "
      ],
      "metadata": {
        "id": "N8-T6EnmypvW"
      }
    },
    {
      "cell_type": "code",
      "source": [
        "# Evaluate the model on the test set\n",
        "test_loss, test_acc = model.evaluate(x_test, y_test)\n",
        "print('Test accuracy:', test_acc)"
      ],
      "metadata": {
        "id": "auYNYD0JpnaX",
        "outputId": "9c5f902d-2770-4499-e01b-4751fa447507",
        "colab": {
          "base_uri": "https://localhost:8080/"
        }
      },
      "execution_count": null,
      "outputs": [
        {
          "output_type": "stream",
          "name": "stdout",
          "text": [
            "313/313 [==============================] - 130s 416ms/step - loss: 1.1245 - accuracy: 0.6125\n",
            "Test accuracy: 0.612500011920929\n"
          ]
        }
      ]
    },
    {
      "cell_type": "markdown",
      "source": [
        "# Improve the model"
      ],
      "metadata": {
        "id": "ZeT0jceeUJJB"
      }
    },
    {
      "cell_type": "code",
      "source": [
        "x = base_model.output\n",
        "x = GlobalAveragePooling2D()(x)\n",
        "x = Dense(512, activation='relu')(x)\n",
        "x = Dense(256, activation='relu')(x)\n",
        "predictions = Dense(10, activation='softmax')(x)\n",
        "model2 = Model(inputs=base_model.input, outputs=predictions)\n",
        "model2.summary()"
      ],
      "metadata": {
        "colab": {
          "base_uri": "https://localhost:8080/"
        },
        "id": "5hWWx-yaUSsQ",
        "outputId": "2d269fbe-b36f-4b87-c489-eda7372c4c38"
      },
      "execution_count": null,
      "outputs": [
        {
          "output_type": "stream",
          "name": "stdout",
          "text": [
            "Model: \"model\"\n",
            "_________________________________________________________________\n",
            " Layer (type)                Output Shape              Param #   \n",
            "=================================================================\n",
            " input_1 (InputLayer)        [(None, 32, 32, 3)]       0         \n",
            "                                                                 \n",
            " block1_conv1 (Conv2D)       (None, 32, 32, 64)        1792      \n",
            "                                                                 \n",
            " block1_conv2 (Conv2D)       (None, 32, 32, 64)        36928     \n",
            "                                                                 \n",
            " block1_pool (MaxPooling2D)  (None, 16, 16, 64)        0         \n",
            "                                                                 \n",
            " block2_conv1 (Conv2D)       (None, 16, 16, 128)       73856     \n",
            "                                                                 \n",
            " block2_conv2 (Conv2D)       (None, 16, 16, 128)       147584    \n",
            "                                                                 \n",
            " block2_pool (MaxPooling2D)  (None, 8, 8, 128)         0         \n",
            "                                                                 \n",
            " block3_conv1 (Conv2D)       (None, 8, 8, 256)         295168    \n",
            "                                                                 \n",
            " block3_conv2 (Conv2D)       (None, 8, 8, 256)         590080    \n",
            "                                                                 \n",
            " block3_conv3 (Conv2D)       (None, 8, 8, 256)         590080    \n",
            "                                                                 \n",
            " block3_pool (MaxPooling2D)  (None, 4, 4, 256)         0         \n",
            "                                                                 \n",
            " block4_conv1 (Conv2D)       (None, 4, 4, 512)         1180160   \n",
            "                                                                 \n",
            " block4_conv2 (Conv2D)       (None, 4, 4, 512)         2359808   \n",
            "                                                                 \n",
            " block4_conv3 (Conv2D)       (None, 4, 4, 512)         2359808   \n",
            "                                                                 \n",
            " block4_pool (MaxPooling2D)  (None, 2, 2, 512)         0         \n",
            "                                                                 \n",
            " block5_conv1 (Conv2D)       (None, 2, 2, 512)         2359808   \n",
            "                                                                 \n",
            " block5_conv2 (Conv2D)       (None, 2, 2, 512)         2359808   \n",
            "                                                                 \n",
            " block5_conv3 (Conv2D)       (None, 2, 2, 512)         2359808   \n",
            "                                                                 \n",
            " block5_pool (MaxPooling2D)  (None, 1, 1, 512)         0         \n",
            "                                                                 \n",
            " global_average_pooling2d (  (None, 512)               0         \n",
            " GlobalAveragePooling2D)                                         \n",
            "                                                                 \n",
            " dense (Dense)               (None, 512)               262656    \n",
            "                                                                 \n",
            " dense_1 (Dense)             (None, 256)               131328    \n",
            "                                                                 \n",
            " dense_2 (Dense)             (None, 10)                2570      \n",
            "                                                                 \n",
            "=================================================================\n",
            "Total params: 15111242 (57.64 MB)\n",
            "Trainable params: 396554 (1.51 MB)\n",
            "Non-trainable params: 14714688 (56.13 MB)\n",
            "_________________________________________________________________\n"
          ]
        }
      ]
    },
    {
      "cell_type": "code",
      "source": [
        "# Compile the model\n",
        "model2.compile(optimizer=Adam(learning_rate=0.001), loss='categorical_crossentropy', metrics=['accuracy'])"
      ],
      "metadata": {
        "id": "zUOGg587WG0l"
      },
      "execution_count": null,
      "outputs": []
    },
    {
      "cell_type": "code",
      "source": [
        "# Train the model and implement an early stopping\n",
        "early_stopping = tf.keras.callbacks.EarlyStopping(monitor='val_loss', patience=3)\n",
        "history = model2.fit(x_train, y_train, validation_data=(x_val, y_val), epochs=50, callbacks=[early_stopping], batch_size=16)"
      ],
      "metadata": {
        "colab": {
          "base_uri": "https://localhost:8080/"
        },
        "id": "dLC6T1doX54Y",
        "outputId": "d0b0ec2c-399e-42d9-ff0b-2087d27cc856"
      },
      "execution_count": null,
      "outputs": [
        {
          "output_type": "stream",
          "name": "stdout",
          "text": [
            "Epoch 1/50\n",
            "2813/2813 [==============================] - 612s 217ms/step - loss: 1.3417 - accuracy: 0.5265 - val_loss: 1.2426 - val_accuracy: 0.5592\n",
            "Epoch 2/50\n",
            "2813/2813 [==============================] - 611s 217ms/step - loss: 1.1599 - accuracy: 0.5895 - val_loss: 1.1861 - val_accuracy: 0.5730\n",
            "Epoch 3/50\n",
            "2813/2813 [==============================] - 610s 217ms/step - loss: 1.0840 - accuracy: 0.6182 - val_loss: 1.1529 - val_accuracy: 0.6014\n",
            "Epoch 4/50\n",
            "2813/2813 [==============================] - 611s 217ms/step - loss: 1.0205 - accuracy: 0.6398 - val_loss: 1.1390 - val_accuracy: 0.6126\n",
            "Epoch 5/50\n",
            "2813/2813 [==============================] - 608s 216ms/step - loss: 0.9649 - accuracy: 0.6589 - val_loss: 1.1453 - val_accuracy: 0.6112\n",
            "Epoch 6/50\n",
            "2813/2813 [==============================] - 610s 217ms/step - loss: 0.9093 - accuracy: 0.6772 - val_loss: 1.1297 - val_accuracy: 0.6144\n",
            "Epoch 7/50\n",
            "2813/2813 [==============================] - 609s 217ms/step - loss: 0.8585 - accuracy: 0.6949 - val_loss: 1.1506 - val_accuracy: 0.6182\n",
            "Epoch 8/50\n",
            "2813/2813 [==============================] - 611s 217ms/step - loss: 0.8020 - accuracy: 0.7118 - val_loss: 1.1749 - val_accuracy: 0.6202\n",
            "Epoch 9/50\n",
            "2813/2813 [==============================] - 580s 206ms/step - loss: 0.7539 - accuracy: 0.7298 - val_loss: 1.2767 - val_accuracy: 0.6180\n"
          ]
        }
      ]
    },
    {
      "cell_type": "code",
      "source": [
        "# Evaluate the model on the test set\n",
        "test_loss, test_acc = model2.evaluate(x_test, y_test)\n",
        "print('Test accuracy:', test_acc)"
      ],
      "metadata": {
        "colab": {
          "base_uri": "https://localhost:8080/"
        },
        "id": "hDStF-F7Y3Kf",
        "outputId": "bedf53d3-6d6a-4403-9b32-824ff182fa2f"
      },
      "execution_count": null,
      "outputs": [
        {
          "output_type": "stream",
          "name": "stdout",
          "text": [
            "313/313 [==============================] - 110s 351ms/step - loss: 1.2658 - accuracy: 0.6097\n",
            "Test accuracy: 0.6097000241279602\n"
          ]
        }
      ]
    },
    {
      "cell_type": "code",
      "source": [
        "# Try to improve the model with augmented data\n",
        "\n",
        "x = base_model.output\n",
        "x = GlobalAveragePooling2D()(x)\n",
        "x = Dense(256, activation='relu')(x)\n",
        "predictions = Dense(10, activation='softmax')(x)\n",
        "model3 = Model(inputs=base_model.input, outputs=predictions)\n",
        "model3.summary()"
      ],
      "metadata": {
        "id": "vO1aagZDylxL",
        "outputId": "ca7d4f1d-181e-4948-ce77-6302c0545f15",
        "colab": {
          "base_uri": "https://localhost:8080/"
        }
      },
      "execution_count": null,
      "outputs": [
        {
          "output_type": "stream",
          "name": "stdout",
          "text": [
            "Model: \"model\"\n",
            "_________________________________________________________________\n",
            " Layer (type)                Output Shape              Param #   \n",
            "=================================================================\n",
            " input_1 (InputLayer)        [(None, 32, 32, 3)]       0         \n",
            "                                                                 \n",
            " block1_conv1 (Conv2D)       (None, 32, 32, 64)        1792      \n",
            "                                                                 \n",
            " block1_conv2 (Conv2D)       (None, 32, 32, 64)        36928     \n",
            "                                                                 \n",
            " block1_pool (MaxPooling2D)  (None, 16, 16, 64)        0         \n",
            "                                                                 \n",
            " block2_conv1 (Conv2D)       (None, 16, 16, 128)       73856     \n",
            "                                                                 \n",
            " block2_conv2 (Conv2D)       (None, 16, 16, 128)       147584    \n",
            "                                                                 \n",
            " block2_pool (MaxPooling2D)  (None, 8, 8, 128)         0         \n",
            "                                                                 \n",
            " block3_conv1 (Conv2D)       (None, 8, 8, 256)         295168    \n",
            "                                                                 \n",
            " block3_conv2 (Conv2D)       (None, 8, 8, 256)         590080    \n",
            "                                                                 \n",
            " block3_conv3 (Conv2D)       (None, 8, 8, 256)         590080    \n",
            "                                                                 \n",
            " block3_pool (MaxPooling2D)  (None, 4, 4, 256)         0         \n",
            "                                                                 \n",
            " block4_conv1 (Conv2D)       (None, 4, 4, 512)         1180160   \n",
            "                                                                 \n",
            " block4_conv2 (Conv2D)       (None, 4, 4, 512)         2359808   \n",
            "                                                                 \n",
            " block4_conv3 (Conv2D)       (None, 4, 4, 512)         2359808   \n",
            "                                                                 \n",
            " block4_pool (MaxPooling2D)  (None, 2, 2, 512)         0         \n",
            "                                                                 \n",
            " block5_conv1 (Conv2D)       (None, 2, 2, 512)         2359808   \n",
            "                                                                 \n",
            " block5_conv2 (Conv2D)       (None, 2, 2, 512)         2359808   \n",
            "                                                                 \n",
            " block5_conv3 (Conv2D)       (None, 2, 2, 512)         2359808   \n",
            "                                                                 \n",
            " block5_pool (MaxPooling2D)  (None, 1, 1, 512)         0         \n",
            "                                                                 \n",
            " global_average_pooling2d (  (None, 512)               0         \n",
            " GlobalAveragePooling2D)                                         \n",
            "                                                                 \n",
            " dense (Dense)               (None, 256)               131328    \n",
            "                                                                 \n",
            " dense_1 (Dense)             (None, 10)                2570      \n",
            "                                                                 \n",
            "=================================================================\n",
            "Total params: 14848586 (56.64 MB)\n",
            "Trainable params: 133898 (523.04 KB)\n",
            "Non-trainable params: 14714688 (56.13 MB)\n",
            "_________________________________________________________________\n"
          ]
        }
      ]
    },
    {
      "cell_type": "code",
      "source": [
        "# Compile the model\n",
        "model3.compile(optimizer=Adam(learning_rate=0.001), loss='categorical_crossentropy', metrics=['accuracy'])"
      ],
      "metadata": {
        "id": "_S2WMe6jyzTY"
      },
      "execution_count": null,
      "outputs": []
    },
    {
      "cell_type": "code",
      "source": [
        "# Train the model and implement an early stopping\n",
        "early_stopping = tf.keras.callbacks.EarlyStopping(monitor='val_loss', patience=3)\n",
        "history = model3.fit(datagen.flow(x_train, y_train, batch_size=32), validation_data=(x_val, y_val), epochs=50, callbacks=[early_stopping])"
      ],
      "metadata": {
        "id": "OC7AICcay4dU",
        "outputId": "e9f02784-fa95-40fd-d2ff-21d138a6fa36",
        "colab": {
          "base_uri": "https://localhost:8080/"
        }
      },
      "execution_count": null,
      "outputs": [
        {
          "output_type": "stream",
          "name": "stdout",
          "text": [
            "Epoch 1/50\n",
            "1407/1407 [==============================] - 704s 499ms/step - loss: 1.4594 - accuracy: 0.4850 - val_loss: 1.2606 - val_accuracy: 0.5494\n",
            "Epoch 2/50\n",
            "1407/1407 [==============================] - 706s 502ms/step - loss: 1.2952 - accuracy: 0.5465 - val_loss: 1.2002 - val_accuracy: 0.5702\n",
            "Epoch 3/50\n",
            "1407/1407 [==============================] - 712s 506ms/step - loss: 1.2440 - accuracy: 0.5644 - val_loss: 1.1725 - val_accuracy: 0.5790\n",
            "Epoch 4/50\n",
            "1407/1407 [==============================] - 692s 492ms/step - loss: 1.2077 - accuracy: 0.5724 - val_loss: 1.1516 - val_accuracy: 0.5906\n",
            "Epoch 5/50\n",
            "1407/1407 [==============================] - 734s 522ms/step - loss: 1.1822 - accuracy: 0.5816 - val_loss: 1.1396 - val_accuracy: 0.5920\n",
            "Epoch 6/50\n",
            "1407/1407 [==============================] - 709s 504ms/step - loss: 1.1509 - accuracy: 0.5922 - val_loss: 1.1131 - val_accuracy: 0.6096\n",
            "Epoch 7/50\n",
            "1407/1407 [==============================] - 693s 492ms/step - loss: 1.1366 - accuracy: 0.6007 - val_loss: 1.1126 - val_accuracy: 0.6162\n",
            "Epoch 8/50\n",
            "1407/1407 [==============================] - 722s 513ms/step - loss: 1.1164 - accuracy: 0.6072 - val_loss: 1.1282 - val_accuracy: 0.6052\n",
            "Epoch 9/50\n",
            "1407/1407 [==============================] - 695s 494ms/step - loss: 1.0973 - accuracy: 0.6132 - val_loss: 1.0952 - val_accuracy: 0.6130\n",
            "Epoch 10/50\n",
            "1407/1407 [==============================] - 697s 496ms/step - loss: 1.0835 - accuracy: 0.6192 - val_loss: 1.1116 - val_accuracy: 0.6110\n",
            "Epoch 11/50\n",
            "1407/1407 [==============================] - 737s 524ms/step - loss: 1.0697 - accuracy: 0.6230 - val_loss: 1.1069 - val_accuracy: 0.6152\n",
            "Epoch 12/50\n",
            "1407/1407 [==============================] - 702s 499ms/step - loss: 1.0634 - accuracy: 0.6234 - val_loss: 1.0900 - val_accuracy: 0.6210\n",
            "Epoch 13/50\n",
            "1407/1407 [==============================] - 700s 498ms/step - loss: 1.0506 - accuracy: 0.6288 - val_loss: 1.0986 - val_accuracy: 0.6138\n",
            "Epoch 14/50\n",
            "1407/1407 [==============================] - 707s 502ms/step - loss: 1.0381 - accuracy: 0.6300 - val_loss: 1.1282 - val_accuracy: 0.6112\n",
            "Epoch 15/50\n",
            "1407/1407 [==============================] - 703s 499ms/step - loss: 1.0283 - accuracy: 0.6379 - val_loss: 1.1076 - val_accuracy: 0.6138\n"
          ]
        }
      ]
    },
    {
      "cell_type": "code",
      "source": [
        "# Evaluate the model on the test set\n",
        "test_loss, test_acc = model3.evaluate(x_test, y_test)\n",
        "print('Test accuracy:', test_acc)"
      ],
      "metadata": {
        "id": "rCMlZriNzOhV",
        "outputId": "90d0b155-3bba-47ab-d388-fd9c0944b420",
        "colab": {
          "base_uri": "https://localhost:8080/"
        }
      },
      "execution_count": null,
      "outputs": [
        {
          "output_type": "stream",
          "name": "stdout",
          "text": [
            "313/313 [==============================] - 132s 422ms/step - loss: 1.1301 - accuracy: 0.6129\n",
            "Test accuracy: 0.6129000186920166\n"
          ]
        }
      ]
    },
    {
      "cell_type": "code",
      "source": [
        "# Retrain some last layers and use augmented data\n",
        "\n",
        "# Load the pre-trained VGG16 model\n",
        "base_model = VGG16(weights='imagenet', include_top=False)\n",
        "\n",
        "# Freeze some layers in the base model\n",
        "for layer in base_model.layers[:-4]:\n",
        "    layer.trainable = False\n",
        "\n",
        "# Add extra layers\n",
        "x = base_model.output\n",
        "x = GlobalAveragePooling2D()(x)\n",
        "x = Dense(256, activation='relu')(x)\n",
        "predictions = Dense(10, activation='softmax')(x)\n",
        "model4 = Model(inputs=base_model.input, outputs=predictions)\n",
        "model4.summary()\n",
        "\n",
        "# Compile the model\n",
        "model4.compile(optimizer=Adam(learning_rate=0.001), loss='categorical_crossentropy', metrics=['accuracy'])"
      ],
      "metadata": {
        "id": "4e2VNZD2QmEj",
        "outputId": "7c4146e8-2c79-46ca-9348-8cd49cbb18e3",
        "colab": {
          "base_uri": "https://localhost:8080/"
        }
      },
      "execution_count": 12,
      "outputs": [
        {
          "output_type": "stream",
          "name": "stdout",
          "text": [
            "Downloading data from https://storage.googleapis.com/tensorflow/keras-applications/vgg16/vgg16_weights_tf_dim_ordering_tf_kernels_notop.h5\n",
            "58889256/58889256 [==============================] - 0s 0us/step\n",
            "Model: \"model\"\n",
            "_________________________________________________________________\n",
            " Layer (type)                Output Shape              Param #   \n",
            "=================================================================\n",
            " input_1 (InputLayer)        [(None, None, None, 3)]   0         \n",
            "                                                                 \n",
            " block1_conv1 (Conv2D)       (None, None, None, 64)    1792      \n",
            "                                                                 \n",
            " block1_conv2 (Conv2D)       (None, None, None, 64)    36928     \n",
            "                                                                 \n",
            " block1_pool (MaxPooling2D)  (None, None, None, 64)    0         \n",
            "                                                                 \n",
            " block2_conv1 (Conv2D)       (None, None, None, 128)   73856     \n",
            "                                                                 \n",
            " block2_conv2 (Conv2D)       (None, None, None, 128)   147584    \n",
            "                                                                 \n",
            " block2_pool (MaxPooling2D)  (None, None, None, 128)   0         \n",
            "                                                                 \n",
            " block3_conv1 (Conv2D)       (None, None, None, 256)   295168    \n",
            "                                                                 \n",
            " block3_conv2 (Conv2D)       (None, None, None, 256)   590080    \n",
            "                                                                 \n",
            " block3_conv3 (Conv2D)       (None, None, None, 256)   590080    \n",
            "                                                                 \n",
            " block3_pool (MaxPooling2D)  (None, None, None, 256)   0         \n",
            "                                                                 \n",
            " block4_conv1 (Conv2D)       (None, None, None, 512)   1180160   \n",
            "                                                                 \n",
            " block4_conv2 (Conv2D)       (None, None, None, 512)   2359808   \n",
            "                                                                 \n",
            " block4_conv3 (Conv2D)       (None, None, None, 512)   2359808   \n",
            "                                                                 \n",
            " block4_pool (MaxPooling2D)  (None, None, None, 512)   0         \n",
            "                                                                 \n",
            " block5_conv1 (Conv2D)       (None, None, None, 512)   2359808   \n",
            "                                                                 \n",
            " block5_conv2 (Conv2D)       (None, None, None, 512)   2359808   \n",
            "                                                                 \n",
            " block5_conv3 (Conv2D)       (None, None, None, 512)   2359808   \n",
            "                                                                 \n",
            " block5_pool (MaxPooling2D)  (None, None, None, 512)   0         \n",
            "                                                                 \n",
            " global_average_pooling2d (  (None, 512)               0         \n",
            " GlobalAveragePooling2D)                                         \n",
            "                                                                 \n",
            " dense (Dense)               (None, 256)               131328    \n",
            "                                                                 \n",
            " dense_1 (Dense)             (None, 10)                2570      \n",
            "                                                                 \n",
            "=================================================================\n",
            "Total params: 14848586 (56.64 MB)\n",
            "Trainable params: 7213322 (27.52 MB)\n",
            "Non-trainable params: 7635264 (29.13 MB)\n",
            "_________________________________________________________________\n"
          ]
        }
      ]
    },
    {
      "cell_type": "code",
      "source": [
        "# Train the model and implement an early stopping\n",
        "early_stopping = tf.keras.callbacks.EarlyStopping(monitor='val_accuracy', patience=15)\n",
        "history = model4.fit(datagen.flow(x_train, y_train, batch_size=64), validation_data=(x_val, y_val), epochs=100, callbacks=[early_stopping])"
      ],
      "metadata": {
        "id": "3hR6Tal9SyFN",
        "outputId": "ac950df7-58bf-458d-b25a-fedc80a3e853",
        "colab": {
          "base_uri": "https://localhost:8080/"
        }
      },
      "execution_count": 13,
      "outputs": [
        {
          "metadata": {
            "tags": null
          },
          "name": "stdout",
          "output_type": "stream",
          "text": [
            "Epoch 1/100\n",
            "704/704 [==============================] - 96s 134ms/step - loss: 1.2924 - accuracy: 0.5362 - val_loss: 1.0522 - val_accuracy: 0.6634\n",
            "Epoch 2/100\n",
            "704/704 [==============================] - 94s 133ms/step - loss: 0.9832 - accuracy: 0.6604 - val_loss: 0.8347 - val_accuracy: 0.7174\n",
            "Epoch 3/100\n",
            "704/704 [==============================] - 94s 134ms/step - loss: 0.9102 - accuracy: 0.6849 - val_loss: 0.7952 - val_accuracy: 0.7292\n",
            "Epoch 4/100\n",
            "704/704 [==============================] - 95s 134ms/step - loss: 0.8563 - accuracy: 0.7012 - val_loss: 0.7973 - val_accuracy: 0.7306\n",
            "Epoch 5/100\n",
            "704/704 [==============================] - 94s 134ms/step - loss: 0.8280 - accuracy: 0.7120 - val_loss: 0.7923 - val_accuracy: 0.7278\n",
            "Epoch 6/100\n",
            "704/704 [==============================] - 95s 134ms/step - loss: 0.7895 - accuracy: 0.7261 - val_loss: 0.7366 - val_accuracy: 0.7488\n",
            "Epoch 7/100\n",
            "704/704 [==============================] - 95s 135ms/step - loss: 0.7681 - accuracy: 0.7305 - val_loss: 0.7900 - val_accuracy: 0.7346\n",
            "Epoch 8/100\n",
            "704/704 [==============================] - 95s 135ms/step - loss: 0.7408 - accuracy: 0.7392 - val_loss: 0.7997 - val_accuracy: 0.7352\n",
            "Epoch 9/100\n",
            "704/704 [==============================] - 94s 133ms/step - loss: 0.7219 - accuracy: 0.7483 - val_loss: 0.7788 - val_accuracy: 0.7444\n",
            "Epoch 10/100\n",
            "704/704 [==============================] - 95s 135ms/step - loss: 0.7085 - accuracy: 0.7530 - val_loss: 0.7612 - val_accuracy: 0.7506\n",
            "Epoch 11/100\n",
            "704/704 [==============================] - 94s 134ms/step - loss: 0.6817 - accuracy: 0.7592 - val_loss: 0.7197 - val_accuracy: 0.7568\n",
            "Epoch 12/100\n",
            "704/704 [==============================] - 93s 132ms/step - loss: 0.6727 - accuracy: 0.7675 - val_loss: 0.7471 - val_accuracy: 0.7600\n",
            "Epoch 13/100\n",
            "704/704 [==============================] - 93s 132ms/step - loss: 0.6571 - accuracy: 0.7702 - val_loss: 0.7478 - val_accuracy: 0.7584\n",
            "Epoch 14/100\n",
            "704/704 [==============================] - 93s 132ms/step - loss: 0.6304 - accuracy: 0.7774 - val_loss: 0.7230 - val_accuracy: 0.7584\n",
            "Epoch 15/100\n",
            "704/704 [==============================] - 95s 135ms/step - loss: 0.6222 - accuracy: 0.7794 - val_loss: 0.7395 - val_accuracy: 0.7538\n",
            "Epoch 16/100\n",
            "704/704 [==============================] - 95s 135ms/step - loss: 0.6133 - accuracy: 0.7836 - val_loss: 0.7289 - val_accuracy: 0.7624\n",
            "Epoch 17/100\n",
            "704/704 [==============================] - 94s 133ms/step - loss: 0.5985 - accuracy: 0.7910 - val_loss: 0.7286 - val_accuracy: 0.7564\n",
            "Epoch 18/100\n",
            "704/704 [==============================] - 94s 133ms/step - loss: 0.5845 - accuracy: 0.7944 - val_loss: 0.7777 - val_accuracy: 0.7560\n",
            "Epoch 19/100\n",
            "704/704 [==============================] - 94s 134ms/step - loss: 0.5732 - accuracy: 0.7972 - val_loss: 0.7392 - val_accuracy: 0.7656\n",
            "Epoch 20/100\n",
            "704/704 [==============================] - 93s 133ms/step - loss: 0.5616 - accuracy: 0.7997 - val_loss: 0.7446 - val_accuracy: 0.7622\n",
            "Epoch 21/100\n",
            "704/704 [==============================] - 94s 133ms/step - loss: 0.5482 - accuracy: 0.8053 - val_loss: 0.7428 - val_accuracy: 0.7636\n",
            "Epoch 22/100\n",
            "704/704 [==============================] - 94s 134ms/step - loss: 0.5363 - accuracy: 0.8107 - val_loss: 0.7568 - val_accuracy: 0.7586\n",
            "Epoch 23/100\n",
            "704/704 [==============================] - 94s 134ms/step - loss: 0.5321 - accuracy: 0.8109 - val_loss: 0.7911 - val_accuracy: 0.7616\n",
            "Epoch 24/100\n",
            "704/704 [==============================] - 93s 133ms/step - loss: 0.5158 - accuracy: 0.8162 - val_loss: 0.7583 - val_accuracy: 0.7680\n",
            "Epoch 25/100\n",
            "704/704 [==============================] - 93s 133ms/step - loss: 0.5033 - accuracy: 0.8224 - val_loss: 0.7692 - val_accuracy: 0.7656\n",
            "Epoch 26/100\n",
            "704/704 [==============================] - 94s 133ms/step - loss: 0.4965 - accuracy: 0.8228 - val_loss: 0.7676 - val_accuracy: 0.7678\n",
            "Epoch 27/100\n",
            "704/704 [==============================] - 94s 133ms/step - loss: 0.4826 - accuracy: 0.8289 - val_loss: 0.8085 - val_accuracy: 0.7598\n",
            "Epoch 28/100\n",
            "704/704 [==============================] - 94s 134ms/step - loss: 0.4756 - accuracy: 0.8316 - val_loss: 0.7941 - val_accuracy: 0.7536\n",
            "Epoch 29/100\n",
            "704/704 [==============================] - 94s 133ms/step - loss: 0.4631 - accuracy: 0.8354 - val_loss: 0.7872 - val_accuracy: 0.7634\n",
            "Epoch 30/100\n",
            "704/704 [==============================] - 94s 133ms/step - loss: 0.4577 - accuracy: 0.8376 - val_loss: 0.8076 - val_accuracy: 0.7580\n",
            "Epoch 31/100\n",
            "704/704 [==============================] - 94s 133ms/step - loss: 0.4507 - accuracy: 0.8391 - val_loss: 0.8104 - val_accuracy: 0.7636\n",
            "Epoch 32/100\n",
            "704/704 [==============================] - 94s 133ms/step - loss: 0.4305 - accuracy: 0.8469 - val_loss: 0.8272 - val_accuracy: 0.7676\n",
            "Epoch 33/100\n",
            "704/704 [==============================] - 94s 133ms/step - loss: 0.4318 - accuracy: 0.8468 - val_loss: 0.8255 - val_accuracy: 0.7626\n",
            "Epoch 34/100\n",
            "704/704 [==============================] - 94s 133ms/step - loss: 0.4294 - accuracy: 0.8471 - val_loss: 0.8573 - val_accuracy: 0.7590\n",
            "Epoch 35/100\n",
            "704/704 [==============================] - 94s 133ms/step - loss: 0.4144 - accuracy: 0.8527 - val_loss: 0.8473 - val_accuracy: 0.7592\n",
            "Epoch 36/100\n",
            "704/704 [==============================] - 94s 134ms/step - loss: 0.4051 - accuracy: 0.8567 - val_loss: 0.8697 - val_accuracy: 0.7546\n",
            "Epoch 37/100\n",
            "704/704 [==============================] - 93s 132ms/step - loss: 0.3901 - accuracy: 0.8609 - val_loss: 0.8722 - val_accuracy: 0.7612\n",
            "Epoch 38/100\n",
            "704/704 [==============================] - 93s 133ms/step - loss: 0.3992 - accuracy: 0.8606 - val_loss: 0.8618 - val_accuracy: 0.7604\n",
            "Epoch 39/100\n",
            "704/704 [==============================] - 93s 132ms/step - loss: 0.3793 - accuracy: 0.8660 - val_loss: 0.8772 - val_accuracy: 0.7648\n"
          ]
        }
      ]
    },
    {
      "cell_type": "code",
      "source": [
        "# Evaluate the model on the test set\n",
        "test_loss, test_acc = model4.evaluate(x_test, y_test)\n",
        "print('Test accuracy:', test_acc)"
      ],
      "metadata": {
        "id": "gUbLMbdYTZIj",
        "outputId": "ad5e1471-6f18-4c49-e72f-fd271185f2f6",
        "colab": {
          "base_uri": "https://localhost:8080/"
        }
      },
      "execution_count": 14,
      "outputs": [
        {
          "metadata": {
            "tags": null
          },
          "name": "stdout",
          "output_type": "stream",
          "text": [
            "313/313 [==============================] - 11s 36ms/step - loss: 0.9055 - accuracy: 0.7598\n",
            "Test accuracy: 0.7598000168800354\n"
          ]
        }
      ]
    }
  ]
}